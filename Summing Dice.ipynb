{
 "cells": [
  {
   "cell_type": "code",
   "execution_count": 1,
   "id": "smooth-fitting",
   "metadata": {},
   "outputs": [],
   "source": [
    "#import libraries\n",
    "import random\n",
    "from matplotlib import pyplot as plt #note to self - figure out why always imported as plt "
   ]
  },
  {
   "cell_type": "code",
   "execution_count": 2,
   "id": "going-browse",
   "metadata": {},
   "outputs": [],
   "source": [
    "#Recursively simulate the sum of [n] dice thrown at once\n",
    "def sumRolls(n): \n",
    "    roll = random.randint(1,6)\n",
    "    #base case, if n == 1 then stop\n",
    "    if n == 1:\n",
    "        return roll\n",
    "    #recursive case, if n > 1 then call sumRolls with new param (n-1)\n",
    "    else:\n",
    "        return roll + sumRolls(n-1)\n"
   ]
  },
  {
   "cell_type": "code",
   "execution_count": 3,
   "id": "severe-township",
   "metadata": {},
   "outputs": [],
   "source": [
    "#Collect the results of [t] trials of [dice] number of dice\n",
    "def trialRolls(dice, t):\n",
    "    sumsList = []\n",
    "    for i in range(t):\n",
    "        sumsList.append(sumRolls(dice))\n",
    "    return sumsList\n",
    "        \n",
    "    "
   ]
  },
  {
   "cell_type": "code",
   "execution_count": 4,
   "id": "alive-aside",
   "metadata": {
    "scrolled": true
   },
   "outputs": [
    {
     "name": "stdout",
     "output_type": "stream",
     "text": [
      "[5, 2, 10, 7, 7, 10, 7, 4, 10, 7, 6, 5, 9, 6, 3, 8, 9, 9, 7, 9, 9, 6, 11, 6, 2, 9, 4, 8, 4, 8, 10, 10, 4, 6, 8, 5, 7, 7, 9, 8, 7, 8, 7, 8, 11, 7, 8, 4, 8, 6, 5, 4, 4, 5, 7, 6, 6, 12, 4, 5, 9, 6, 10, 6, 7, 11, 7, 9, 8, 7, 7, 9, 8, 7, 5, 6, 4, 7, 5, 6, 11, 6, 9, 3, 8, 2, 5, 12, 4, 8, 6, 7, 10, 4, 8, 5, 4, 7, 5, 8, 4, 8, 7, 7, 6, 6, 5, 11, 7, 6, 6, 8, 6, 6, 8, 4, 10, 11, 11, 7, 5, 4, 7, 5, 12, 9, 12, 8, 8, 5, 9, 6, 5, 9, 10, 6, 6, 6, 6, 7, 8, 11, 7, 9, 5, 5, 10, 5, 10, 5, 8, 4, 6, 11, 6, 8, 3, 5, 3, 9, 9, 7, 7, 7, 8, 10, 5, 5, 5, 7, 6, 5, 6, 4, 9, 5, 9, 7, 5, 7, 4, 8, 9, 6, 10, 8, 3, 3, 5, 9, 11, 11, 7, 11, 8, 11, 5, 8, 5, 9, 8, 8, 11, 9, 3, 8, 6, 9, 8, 9, 4, 6, 7, 11, 4, 11, 6, 6, 4, 4, 12, 8, 3, 4, 2, 2, 11, 3, 7, 2, 7, 4, 4, 7, 7, 3, 5, 6, 6, 7, 11, 5, 3, 8, 10, 10, 6, 3, 10, 7, 4, 8, 8, 6, 5, 3, 4, 7, 6, 9, 6, 7, 7, 9, 7, 6, 12, 6, 6, 4, 9, 4, 10, 9, 7, 4, 3, 11, 8, 7, 5, 8, 5, 12, 10, 8, 7, 4, 5, 11, 7, 4, 6, 6, 10, 4, 6, 7, 9, 7, 3, 8, 7, 7, 11, 10, 6, 2, 10, 9, 7, 8, 5, 7, 11, 5, 6, 10, 8, 8, 7, 10, 4, 8, 7, 6, 4, 6, 8, 4, 5, 10, 7, 6, 4, 6, 5, 12, 5, 8, 4, 8, 8, 2, 10, 5, 4, 4, 4, 8, 9, 9, 5, 7, 5, 5, 8, 10, 7, 8, 6, 9, 7, 6, 5, 8, 10, 10, 10, 8, 11, 5, 9, 5, 11, 7, 5, 11, 3, 8, 10, 3, 6, 10, 9, 9, 7, 3, 8, 3, 4, 11, 8, 10, 5, 8, 6, 7, 8, 6, 8, 9, 7, 9, 8, 5, 6, 8, 11, 6, 9, 5, 7, 11, 2, 5, 10, 9, 7, 5, 5, 8, 8, 7, 7, 7, 8, 4, 10, 12, 2, 4, 8, 7, 6, 8, 8, 6, 5, 8, 9, 8, 10, 8, 8, 10, 9, 2, 6, 4, 4, 5, 5, 10, 3, 7, 6, 7, 7, 7, 7, 4, 5, 8, 4, 4, 7, 6, 8, 3, 7, 4, 5, 12, 8, 7, 12, 9, 10, 9, 5, 5, 12, 10, 9, 7, 8, 7, 7, 5, 4, 9, 6, 11, 6, 7, 7, 10, 4, 6, 7, 11, 8, 5, 3, 7, 6, 6, 5, 7, 2, 7, 10, 7, 3, 4, 9, 9, 6, 9, 9, 8, 5, 8, 5, 7, 11, 3, 11, 9, 8, 11, 3, 4, 6, 9, 3, 6, 6, 4, 9, 8, 2, 7, 7, 11, 3, 5, 6, 5, 9, 6, 8, 6, 6, 9, 4, 5, 6, 5, 7, 6, 7, 6, 10, 7, 6, 8, 5, 7, 8, 7, 8, 3, 9, 8, 9, 9, 7, 4, 5, 7, 6, 5, 4, 12, 9, 7, 4, 7, 8, 11, 11, 9, 8, 3, 7, 5, 8, 8, 5, 2, 9, 8, 5, 3, 10, 9, 7, 10, 10, 11, 10, 7, 5, 6, 5, 4, 4, 10, 5, 10, 4, 9, 3, 7, 7, 8, 8, 8, 2, 3, 8, 2, 9, 3, 3, 7, 7, 6, 6, 9, 8, 8, 7, 9, 5, 6, 10, 8, 6, 7, 4, 8, 10, 4, 11, 9, 7, 10, 6, 7, 3, 3, 8, 10, 2, 9, 7, 9, 10, 12, 8, 12, 8, 5, 6, 5, 10, 6, 8, 10, 9, 6, 8, 3, 12, 9, 7, 5, 11, 8, 5, 9, 9, 8, 5, 9, 9, 5, 10, 9, 6, 12, 5, 9, 9, 6, 7, 10, 8, 8, 9, 4, 11, 2, 6, 11, 6, 7, 5, 5, 9, 7, 10, 10, 8, 6, 4, 4, 6, 8, 6, 11, 6, 4, 8, 7, 7, 7, 4, 10, 7, 10, 8, 8, 11, 5, 9, 12, 12, 6, 11, 9, 7, 6, 2, 11, 2, 6, 5, 7, 11, 12, 10, 6, 6, 6, 3, 4, 11, 3, 10, 9, 6, 9, 6, 7, 4, 2, 9, 4, 7, 3, 4, 9, 6, 8, 5, 8, 11, 9, 6, 8, 6, 9, 5, 2, 2, 5, 5, 4, 8, 9, 9, 8, 8, 7, 6, 8, 11, 4, 8, 10, 4, 4, 4, 9, 7, 7, 2, 6, 9, 11, 3, 7, 7, 10, 7, 8, 4, 9, 9, 11, 5, 4, 4, 5, 10, 8, 5, 7, 8, 6, 10, 9, 7, 7, 5, 5, 7, 5, 9, 6, 6, 6, 4, 7, 6, 10, 6, 7, 8, 3, 4, 5, 2, 7, 4, 9, 10, 5, 8, 7, 5, 7, 10, 7, 5, 4, 11, 8, 7, 3, 6, 7, 9, 9, 11, 7, 9, 7, 5, 5, 11, 8, 9, 6, 8, 4, 10, 4, 6, 4, 8, 9, 7, 10, 9, 11, 4, 5, 11, 9, 6, 6, 5, 4, 8, 12, 6, 7, 5, 11, 4, 8, 4, 5, 7, 4, 12, 9, 7, 6, 5, 8, 6, 3, 8, 5, 6, 6, 5, 10, 7, 8, 4, 10, 10, 6, 6, 7, 11, 6, 10, 12, 9, 8, 8, 8, 5, 10, 8, 4, 5, 8, 8, 7, 6, 7, 11, 8, 9, 4, 6, 8, 5, 6, 9, 7, 8, 9, 4, 5, 12, 5, 6, 9, 10, 7, 5, 8, 4, 6, 5, 4, 8, 12, 9, 6]\n"
     ]
    }
   ],
   "source": [
    "#Test block for trialRolls\n",
    "nums = trialRolls(2,1000)\n",
    "print(nums)"
   ]
  },
  {
   "cell_type": "code",
   "execution_count": 23,
   "id": "swiss-abraham",
   "metadata": {},
   "outputs": [],
   "source": [
    "#Convert the data from a list of values into a dictionary tracking frequency of each number\n",
    "def sumCounter(n):\n",
    "    freq = {}\n",
    "    for i in n:\n",
    "        freq[i] = freq.get(i, 0) + 1\n",
    "    return freq\n",
    "    "
   ]
  },
  {
   "cell_type": "code",
   "execution_count": 24,
   "id": "united-industry",
   "metadata": {},
   "outputs": [
    {
     "name": "stdout",
     "output_type": "stream",
     "text": [
      "{5: 122, 2: 25, 10: 78, 7: 154, 4: 99, 6: 137, 9: 112, 3: 44, 8: 145, 11: 59, 12: 25}\n"
     ]
    }
   ],
   "source": [
    "#Test block for sumCounter \n",
    "print(sumCounter(nums))"
   ]
  },
  {
   "cell_type": "markdown",
   "id": "decent-filename",
   "metadata": {},
   "source": [
    "# 1 Dice, n = 100"
   ]
  },
  {
   "cell_type": "code",
   "execution_count": 20,
   "id": "precious-dialogue",
   "metadata": {},
   "outputs": [
    {
     "data": {
      "text/plain": [
       "(array([17., 21., 19., 15., 28.]),\n",
       " array([1., 2., 3., 4., 5., 6.]),\n",
       " <BarContainer object of 5 artists>)"
      ]
     },
     "execution_count": 20,
     "metadata": {},
     "output_type": "execute_result"
    },
    {
     "data": {
      "image/png": "[encoded data removed]",
      "text/plain": [
       "<Figure size 432x288 with 1 Axes>"
      ]
     },
     "metadata": {
      "needs_background": "light"
     },
     "output_type": "display_data"
    }
   ],
   "source": [
    "plt.hist(trialRolls(1,100), density = False, bins=5)"
   ]
  },
  {
   "cell_type": "markdown",
   "id": "tough-transition",
   "metadata": {},
   "source": [
    "# 2 Dice, n = 100, 1000, 10000"
   ]
  },
  {
   "cell_type": "code",
   "execution_count": 17,
   "id": "detected-update",
   "metadata": {},
   "outputs": [
    {
     "data": {
      "text/plain": [
       "(array([ 4.,  2.,  6.,  7., 15., 11., 23., 11., 13.,  8.]),\n",
       " array([ 2.,  3.,  4.,  5.,  6.,  7.,  8.,  9., 10., 11., 12.]),\n",
       " <BarContainer object of 10 artists>)"
      ]
     },
     "execution_count": 17,
     "metadata": {},
     "output_type": "execute_result"
    },
    {
     "data": {
      "image/png": "[encoded data removed]",
      "text/plain": [
       "<Figure size 432x288 with 1 Axes>"
      ]
     },
     "metadata": {
      "needs_background": "light"
     },
     "output_type": "display_data"
    }
   ],
   "source": [
    "plt.hist(trialRolls(2,100), density = False, bins=10)"
   ]
  },
  {
   "cell_type": "code",
   "execution_count": 18,
   "id": "silver-kennedy",
   "metadata": {},
   "outputs": [
    {
     "data": {
      "text/plain": [
       "(array([ 24.,  61.,  80., 100., 140., 182., 130., 114.,  84.,  85.]),\n",
       " array([ 2.,  3.,  4.,  5.,  6.,  7.,  8.,  9., 10., 11., 12.]),\n",
       " <BarContainer object of 10 artists>)"
      ]
     },
     "execution_count": 18,
     "metadata": {},
     "output_type": "execute_result"
    },
    {
     "data": {
      "image/png": "[encoded data removed]",
      "text/plain": [
       "<Figure size 432x288 with 1 Axes>"
      ]
     },
     "metadata": {
      "needs_background": "light"
     },
     "output_type": "display_data"
    }
   ],
   "source": [
    "plt.hist(trialRolls(2,1000), density = False, bins=10)"
   ]
  },
  {
   "cell_type": "code",
   "execution_count": 19,
   "id": "innovative-hawaiian",
   "metadata": {},
   "outputs": [
    {
     "data": {
      "text/plain": [
       "(array([ 285.,  552.,  847., 1068., 1368., 1691., 1423., 1108.,  803.,\n",
       "         855.]),\n",
       " array([ 2.,  3.,  4.,  5.,  6.,  7.,  8.,  9., 10., 11., 12.]),\n",
       " <BarContainer object of 10 artists>)"
      ]
     },
     "execution_count": 19,
     "metadata": {},
     "output_type": "execute_result"
    },
    {
     "data": {
      "image/png": "[encoded data removed]",
      "text/plain": [
       "<Figure size 432x288 with 1 Axes>"
      ]
     },
     "metadata": {
      "needs_background": "light"
     },
     "output_type": "display_data"
    }
   ],
   "source": [
    "plt.hist(trialRolls(2,10000), density = False, bins=10)"
   ]
  },
  {
   "cell_type": "markdown",
   "id": "spoken-folks",
   "metadata": {},
   "source": [
    "# 3 Dice, n = 100, 1000, 10000"
   ]
  },
  {
   "cell_type": "code",
   "execution_count": 10,
   "id": "choice-gather",
   "metadata": {},
   "outputs": [
    {
     "data": {
      "text/plain": [
       "(array([ 4.,  5.,  5., 11.,  0., 14.,  7., 17., 13.,  0., 11.,  4.,  4.,\n",
       "         3.,  2.]),\n",
       " array([ 5. ,  5.8,  6.6,  7.4,  8.2,  9. ,  9.8, 10.6, 11.4, 12.2, 13. ,\n",
       "        13.8, 14.6, 15.4, 16.2, 17. ]),\n",
       " <BarContainer object of 15 artists>)"
      ]
     },
     "execution_count": 10,
     "metadata": {},
     "output_type": "execute_result"
    },
    {
     "data": {
      "image/png": "[encoded data removed]",
      "text/plain": [
       "<Figure size 432x288 with 1 Axes>"
      ]
     },
     "metadata": {
      "needs_background": "light"
     },
     "output_type": "display_data"
    }
   ],
   "source": [
    "plt.hist(trialRolls(3,100), density = False, bins=15)"
   ]
  },
  {
   "cell_type": "code",
   "execution_count": 11,
   "id": "choice-spider",
   "metadata": {},
   "outputs": [
    {
     "data": {
      "text/plain": [
       "(array([  6.,  15.,  23.,  53.,  66., 110., 139., 104., 119., 117., 102.,\n",
       "         62.,  45.,  23.,  16.]),\n",
       " array([ 3.,  4.,  5.,  6.,  7.,  8.,  9., 10., 11., 12., 13., 14., 15.,\n",
       "        16., 17., 18.]),\n",
       " <BarContainer object of 15 artists>)"
      ]
     },
     "execution_count": 11,
     "metadata": {},
     "output_type": "execute_result"
    },
    {
     "data": {
      "image/png": "[encoded data removed]",
      "text/plain": [
       "<Figure size 432x288 with 1 Axes>"
      ]
     },
     "metadata": {
      "needs_background": "light"
     },
     "output_type": "display_data"
    }
   ],
   "source": [
    "plt.hist(trialRolls(3,1000), density = False, bins=15)"
   ]
  },
  {
   "cell_type": "code",
   "execution_count": 12,
   "id": "controversial-insert",
   "metadata": {},
   "outputs": [
    {
     "data": {
      "text/plain": [
       "(array([  51.,  139.,  274.,  448.,  719., 1019., 1167., 1226., 1275.,\n",
       "        1141.,  959.,  699.,  432.,  271.,  180.]),\n",
       " array([ 3.,  4.,  5.,  6.,  7.,  8.,  9., 10., 11., 12., 13., 14., 15.,\n",
       "        16., 17., 18.]),\n",
       " <BarContainer object of 15 artists>)"
      ]
     },
     "execution_count": 12,
     "metadata": {},
     "output_type": "execute_result"
    },
    {
     "data": {
      "image/png": "[encoded data removed]",
      "text/plain": [
       "<Figure size 432x288 with 1 Axes>"
      ]
     },
     "metadata": {
      "needs_background": "light"
     },
     "output_type": "display_data"
    }
   ],
   "source": [
    "plt.hist(trialRolls(3,10000), density = False, bins=15)"
   ]
  }
 ],
 "metadata": {
  "kernelspec": {
   "display_name": "Python 3",
   "language": "python",
   "name": "python3"
  },
  "language_info": {
   "codemirror_mode": {
    "name": "ipython",
    "version": 3
   },
   "file_extension": ".py",
   "mimetype": "text/x-python",
   "name": "python",
   "nbconvert_exporter": "python",
   "pygments_lexer": "ipython3",
   "version": "3.8.8"
  }
 },
 "nbformat": 4,
 "nbformat_minor": 5
}
