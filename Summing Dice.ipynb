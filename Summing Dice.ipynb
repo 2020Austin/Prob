{
 "cells": [
  {
   "cell_type": "code",
   "execution_count": 1,
   "metadata": {},
   "outputs": [],
   "source": [
    "#import libraries\n",
    "import random\n",
    "from matplotlib import pyplot as plt #note to self - figure out why always imported as plt "
   ]
  },
  {
   "cell_type": "code",
   "execution_count": 2,
   "metadata": {},
   "outputs": [],
   "source": [
    "#Recursively simulate the sum of [n] dice thrown at once\n",
    "def sum_rolls(n): \n",
    "    roll = random.randint(1,6)\n",
    "    #base case, if n == 1 then stop\n",
    "    if n == 1:\n",
    "        return roll\n",
    "    #recursive case, if n > 1 then call sum_rolls with new param (n-1)\n",
    "    else:\n",
    "        return roll + sum_rolls(n-1)"
   ]
  },
  {
   "cell_type": "code",
   "execution_count": 3,
   "metadata": {},
   "outputs": [],
   "source": [
    "def sum_rolls(n):\n",
    "    return sum(random.randint(1, 6) for _ in range(n))"
   ]
  },
  {
   "cell_type": "code",
   "execution_count": 4,
   "metadata": {},
   "outputs": [],
   "source": [
    "#Collect the results of [t] trials of [dice] number of dice\n",
    "def trial_rolls(dice, t):\n",
    "    sums_list = []\n",
    "    for i in range(t):\n",
    "        sums_list.append(sum_rolls(dice))\n",
    "    return sums_list"
   ]
  },
  {
   "cell_type": "code",
   "execution_count": 5,
   "metadata": {},
   "outputs": [],
   "source": [
    "def trial_rolls(num_dice, num_trials):\n",
    "    return [sum_rolls(num_dice) for _ in range(num_trials)]"
   ]
  },
  {
   "cell_type": "code",
   "execution_count": 6,
   "metadata": {
    "scrolled": true
   },
   "outputs": [
    {
     "name": "stdout",
     "output_type": "stream",
     "text": [
      "[2, 9, 9, 2, 7, 4, 3, 6, 6, 7, 6, 5, 8, 3, 8, 7, 6, 9, 8, 7, 5, 6, 6, 5, 4, 6, 9, 5, 8, 8, 6, 6, 7, 7, 11, 3, 7, 9, 9, 9, 8, 11, 4, 5, 8, 4, 12, 8, 3, 4, 8, 10, 7, 6, 10, 11, 7, 6, 7, 6, 8, 7, 6, 9, 4, 11, 7, 11, 4, 8, 2, 10, 12, 5, 9, 5, 5, 6, 8, 9, 8, 6, 9, 7, 9, 7, 6, 10, 10, 7, 7, 4, 5, 6, 10, 9, 7, 7, 5, 7, 7, 9, 9, 8, 9, 5, 5, 6, 8, 2, 7, 8, 5, 9, 7, 7, 5, 7, 9, 8, 10, 7, 7, 7, 11, 5, 9, 7, 10, 6, 7, 5, 10, 9, 3, 8, 10, 7, 6, 9, 5, 10, 7, 3, 3, 7, 10, 7, 5, 4, 9, 3, 8, 7, 3, 12, 8, 4, 2, 5, 5, 5, 7, 4, 9, 6, 6, 10, 4, 6, 6, 5, 7, 5, 7, 7, 10, 8, 11, 9, 5, 2, 10, 9, 4, 10, 3, 8, 7, 5, 9, 4, 9, 7, 4, 4, 7, 7, 9, 10, 12, 7, 8, 5, 5, 6, 4, 3, 7, 8, 6, 11, 2, 7, 6, 8, 6, 7, 2, 2, 10, 9, 8, 5, 9, 10, 5, 8, 5, 7, 7, 5, 11, 7, 11, 9, 5, 5, 9, 7, 3, 6, 10, 7, 6, 2, 8, 3, 9, 8, 5, 8, 6, 6, 7, 3, 12, 7, 4, 7, 8, 4, 6, 10, 8, 6, 6, 8, 6, 3, 4, 11, 5, 3, 11, 4, 8, 9, 10, 8, 3, 7, 4, 7, 9, 8, 7, 11, 6, 8, 7, 11, 9, 9, 8, 10, 6, 5, 9, 2, 3, 5, 6, 7, 5, 6, 9, 4, 7, 11, 6, 7, 4, 11, 6, 6, 6, 9, 7, 9, 4, 8, 5, 7, 9, 6, 8, 10, 7, 12, 8, 4, 5, 10, 2, 7, 9, 7, 7, 6, 7, 4, 5, 7, 2, 8, 8, 7, 6, 10, 6, 10, 6, 5, 6, 4, 7, 6, 5, 5, 11, 4, 3, 7, 9, 8, 7, 10, 5, 12, 7, 12, 6, 5, 10, 10, 8, 7, 4, 12, 6, 7, 6, 10, 5, 8, 9, 5, 7, 8, 6, 5, 12, 6, 9, 5, 4, 2, 11, 7, 7, 7, 7, 4, 4, 7, 6, 8, 2, 3, 4, 12, 3, 4, 5, 4, 6, 6, 8, 7, 3, 4, 7, 4, 5, 9, 2, 7, 9, 8, 11, 4, 6, 3, 5, 11, 8, 4, 4, 12, 8, 7, 9, 9, 11, 8, 4, 5, 9, 2, 7, 8, 9, 7, 6, 7, 10, 9, 11, 4, 6, 8, 9, 9, 6, 11, 4, 10, 5, 12, 6, 5, 6, 5, 6, 6, 9, 6, 6, 8, 5, 7, 5, 7, 3, 5, 8, 8, 6, 6, 9, 11, 3, 7, 5, 5, 8, 3, 9, 11, 9, 7, 5, 2, 5, 8, 5, 6, 10, 4, 7, 8, 9, 9, 3, 9, 6, 9, 5, 6, 7, 5, 4, 5, 10, 7, 2, 5, 4, 7, 10, 9, 5, 6, 7, 9, 11, 8, 9, 8, 2, 6, 9, 9, 5, 10, 5, 11, 4, 10, 10, 4, 6, 8, 4, 9, 6, 6, 3, 6, 4, 10, 7, 9, 9, 6, 8, 6, 5, 7, 7, 5, 9, 6, 4, 4, 7, 9, 3, 8, 10, 5, 9, 9, 9, 6, 6, 8, 9, 3, 8, 6, 9, 7, 2, 11, 4, 3, 6, 9, 5, 6, 8, 8, 7, 2, 6, 6, 6, 5, 6, 9, 5, 5, 5, 4, 9, 7, 8, 12, 7, 4, 8, 9, 11, 4, 4, 9, 9, 6, 4, 8, 8, 4, 4, 2, 6, 4, 11, 8, 8, 3, 11, 7, 11, 9, 7, 11, 8, 4, 7, 9, 7, 10, 3, 7, 3, 3, 7, 6, 12, 7, 6, 8, 11, 5, 5, 4, 8, 8, 8, 10, 11, 5, 9, 7, 6, 10, 8, 5, 9, 5, 6, 9, 2, 3, 6, 2, 8, 9, 8, 6, 11, 10, 4, 6, 5, 8, 7, 8, 12, 11, 7, 3, 8, 5, 7, 5, 9, 4, 5, 7, 7, 7, 3, 9, 8, 6, 3, 6, 3, 5, 8, 3, 11, 5, 6, 5, 7, 9, 4, 5, 2, 9, 6, 7, 7, 6, 5, 4, 11, 9, 2, 8, 11, 5, 6, 8, 7, 6, 6, 4, 11, 8, 6, 5, 9, 11, 7, 7, 7, 4, 6, 5, 9, 8, 9, 5, 5, 7, 10, 11, 9, 7, 4, 7, 5, 5, 6, 10, 6, 5, 4, 7, 4, 7, 3, 10, 7, 4, 8, 4, 5, 5, 7, 9, 5, 6, 9, 6, 6, 4, 11, 9, 9, 7, 8, 8, 10, 10, 7, 6, 4, 6, 3, 7, 5, 3, 9, 6, 9, 4, 9, 5, 4, 10, 4, 9, 9, 5, 8, 7, 10, 7, 5, 9, 4, 8, 7, 10, 7, 6, 11, 9, 6, 7, 12, 12, 10, 7, 6, 8, 12, 5, 7, 11, 11, 4, 6, 8, 3, 10, 5, 3, 3, 6, 9, 11, 5, 3, 11, 6, 6, 6, 9, 9, 7, 8, 3, 11, 6, 2, 4, 5, 9, 5, 12, 12, 7, 4, 8, 10, 10, 4, 8, 5, 9, 6, 4, 4, 8, 3, 4, 11, 7, 7, 8, 8, 5, 11, 8, 5, 4, 9, 6, 4, 9, 8, 6, 6, 4, 7, 10, 11, 4, 3, 9, 8, 9, 6, 10, 9, 8, 8, 11, 5, 5, 8, 10, 10, 4, 4, 7, 7, 11, 3, 7, 8, 5, 8, 7, 10, 9, 2, 12, 6, 7, 6, 11, 8, 4, 7, 8, 6, 6, 10, 7, 7, 7, 8, 6, 7, 5, 4, 6, 8, 6, 6, 6, 11, 6, 7, 9, 4, 2, 12, 7, 4, 6, 7, 9, 7, 5, 6, 9, 6, 8, 2, 8, 6]\n"
     ]
    }
   ],
   "source": [
    "#Test block for trial_rolls\n",
    "nums = trial_rolls(2,1000)\n",
    "print(nums)"
   ]
  },
  {
   "cell_type": "code",
   "execution_count": 7,
   "metadata": {},
   "outputs": [],
   "source": [
    "#Convert the data from a list of values into a dictionary tracking frequency of each number\n",
    "def sum_counter(n):\n",
    "    freq = {}\n",
    "    for i in n:\n",
    "        freq[i] = freq.get(i, 0) + 1\n",
    "    return freq"
   ]
  },
  {
   "cell_type": "code",
   "execution_count": 8,
   "metadata": {},
   "outputs": [
    {
     "data": {
      "text/plain": [
       "Counter({2: 31,\n",
       "         9: 124,\n",
       "         7: 163,\n",
       "         4: 98,\n",
       "         3: 52,\n",
       "         6: 147,\n",
       "         5: 122,\n",
       "         8: 120,\n",
       "         11: 57,\n",
       "         12: 23,\n",
       "         10: 63})"
      ]
     },
     "execution_count": 8,
     "metadata": {},
     "output_type": "execute_result"
    }
   ],
   "source": [
    "from collections import Counter\n",
    "Counter(nums)"
   ]
  },
  {
   "cell_type": "code",
   "execution_count": 9,
   "metadata": {},
   "outputs": [
    {
     "name": "stdout",
     "output_type": "stream",
     "text": [
      "{2: 31, 9: 124, 7: 163, 4: 98, 3: 52, 6: 147, 5: 122, 8: 120, 11: 57, 12: 23, 10: 63}\n"
     ]
    }
   ],
   "source": [
    "#Test block for sum_counter \n",
    "print(sum_counter(nums))"
   ]
  },
  {
   "cell_type": "markdown",
   "metadata": {},
   "source": [
    "# 1 Dice, n = 100"
   ]
  },
  {
   "cell_type": "code",
   "execution_count": 10,
   "metadata": {},
   "outputs": [
    {
     "data": {
      "image/png": "[encoded data removed]",
      "text/plain": [
       "<Figure size 432x288 with 1 Axes>"
      ]
     },
     "metadata": {
      "needs_background": "light"
     },
     "output_type": "display_data"
    }
   ],
   "source": [
    "plt.hist(trial_rolls(1,100), density = False, bins=5);"
   ]
  },
  {
   "cell_type": "markdown",
   "metadata": {},
   "source": [
    "# 2 Dice, n = 100, 1000, 10000"
   ]
  },
  {
   "cell_type": "code",
   "execution_count": 11,
   "metadata": {},
   "outputs": [
    {
     "data": {
      "image/png": "[encoded data removed]",
      "text/plain": [
       "<Figure size 432x288 with 1 Axes>"
      ]
     },
     "metadata": {
      "needs_background": "light"
     },
     "output_type": "display_data"
    }
   ],
   "source": [
    "plt.hist(trial_rolls(2,100), density = False, bins=10);"
   ]
  },
  {
   "cell_type": "code",
   "execution_count": 12,
   "metadata": {},
   "outputs": [
    {
     "data": {
      "image/png": "[encoded data removed]",
      "text/plain": [
       "<Figure size 432x288 with 1 Axes>"
      ]
     },
     "metadata": {
      "needs_background": "light"
     },
     "output_type": "display_data"
    }
   ],
   "source": [
    "plt.hist(trial_rolls(2,1000), density = False, bins=10);"
   ]
  },
  {
   "cell_type": "code",
   "execution_count": 13,
   "metadata": {},
   "outputs": [
    {
     "data": {
      "image/png": "[encoded data removed]",
      "text/plain": [
       "<Figure size 432x288 with 1 Axes>"
      ]
     },
     "metadata": {
      "needs_background": "light"
     },
     "output_type": "display_data"
    }
   ],
   "source": [
    "plt.hist(trial_rolls(2,10000), density = False, bins=10);"
   ]
  },
  {
   "cell_type": "markdown",
   "metadata": {},
   "source": [
    "# 3 Dice, n = 100, 1000, 10000"
   ]
  },
  {
   "cell_type": "code",
   "execution_count": 14,
   "metadata": {},
   "outputs": [
    {
     "data": {
      "image/png": "[encoded data removed]",
      "text/plain": [
       "<Figure size 432x288 with 1 Axes>"
      ]
     },
     "metadata": {
      "needs_background": "light"
     },
     "output_type": "display_data"
    }
   ],
   "source": [
    "plt.hist(trial_rolls(3,100), density = False, bins=15);"
   ]
  },
  {
   "cell_type": "code",
   "execution_count": 15,
   "metadata": {},
   "outputs": [
    {
     "data": {
      "image/png": "[encoded data removed]",
      "text/plain": [
       "<Figure size 432x288 with 1 Axes>"
      ]
     },
     "metadata": {
      "needs_background": "light"
     },
     "output_type": "display_data"
    }
   ],
   "source": [
    "plt.hist(trial_rolls(3,1000), density = False, bins=15);"
   ]
  },
  {
   "cell_type": "code",
   "execution_count": 16,
   "metadata": {},
   "outputs": [
    {
     "data": {
      "image/png": "[encoded data removed]",
      "text/plain": [
       "<Figure size 432x288 with 1 Axes>"
      ]
     },
     "metadata": {
      "needs_background": "light"
     },
     "output_type": "display_data"
    }
   ],
   "source": [
    "plt.hist(trial_rolls(3,10000), density = False, bins=15);"
   ]
  }
 ],
 "metadata": {
  "kernelspec": {
   "display_name": "Python 3",
   "language": "python",
   "name": "python3"
  },
  "language_info": {
   "codemirror_mode": {
    "name": "ipython",
    "version": 3
   },
   "file_extension": ".py",
   "mimetype": "text/x-python",
   "name": "python",
   "nbconvert_exporter": "python",
   "pygments_lexer": "ipython3",
   "version": "3.8.5"
  }
 },
 "nbformat": 4,
 "nbformat_minor": 5
}
